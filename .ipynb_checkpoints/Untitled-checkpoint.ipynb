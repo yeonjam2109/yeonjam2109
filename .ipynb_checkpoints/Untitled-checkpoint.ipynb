{
 "cells": [
  {
   "cell_type": "code",
   "execution_count": 5,
   "metadata": {},
   "outputs": [
    {
     "name": "stdout",
     "output_type": "stream",
     "text": [
      "하늘 유닛 생성\n",
      "unit 생성\n",
      "하늘 유닛 생성\n",
      "unit 생성\n",
      "하늘 유닛 생성\n",
      "unit 생성\n",
      "그라운드 유닛 생성\n",
      "unit 생성\n",
      "unit move\n",
      "unit move\n",
      "4\n"
     ]
    }
   ],
   "source": [
    "from typing import Any\n",
    "\n",
    "\n",
    "class unit:\n",
    "    unit_count = 0\n",
    "\n",
    "    def __init__(self):\n",
    "        print('unit 생성')\n",
    "        unit.unit_count += 1\n",
    "\n",
    "    def move(self):\n",
    "        print('unit move')\n",
    "\n",
    "class skyunit(unit):\n",
    "    def __init__(self):\n",
    "        print('하늘 유닛 생성')\n",
    "        super(skyunit, self).__init__()\n",
    "                                #super 쓰지 않으면 마지막 결과가 0 유닛\n",
    "class groudunit(unit):\n",
    "    def __init__(self):\n",
    "        print('그라운드 유닛 생성')\n",
    "        super(groudunit, self).__init__()\n",
    "\n",
    "b1 = skyunit()\n",
    "b2 = skyunit()\n",
    "b3 = skyunit()\n",
    "d1 = groudunit()\n",
    "\n",
    "b1.move()\n",
    "d1.move()\n",
    "print(unit.unit_count)"
   ]
  },
  {
   "cell_type": "code",
   "execution_count": null,
   "id": "b7abdb9e",
   "metadata": {},
   "outputs": [],
   "source": []
  }
 ],
 "metadata": {
  "kernelspec": {
   "display_name": "nnn",
   "language": "python",
   "name": "python3"
  },
  "language_info": {
   "codemirror_mode": {
    "name": "ipython",
    "version": 3
   },
   "file_extension": ".py",
   "mimetype": "text/x-python",
   "name": "python",
   "nbconvert_exporter": "python",
   "pygments_lexer": "ipython3",
   "version": "3.8.19"
  }
 },
 "nbformat": 4,
 "nbformat_minor": 5
}
