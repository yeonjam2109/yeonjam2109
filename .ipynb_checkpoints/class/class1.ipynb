{
 "cells": [
  {
   "cell_type": "markdown",
   "metadata": {},
   "source": [
    "생성자 __init__,\n",
    "메소드 .method(),\n",
    "속성 . 키에 대한 값을 직접 return 시켜 줘야한다. [''] 인자 값을 받기 때문에.\n"
   ]
  },
  {
   "cell_type": "code",
   "execution_count": 2,
   "metadata": {},
   "outputs": [
    {
     "name": "stdout",
     "output_type": "stream",
     "text": [
      "player가 생성되었습니다\n",
      "10\n",
      "20\n",
      "30\n",
      "존재하지 않는 값입니다.\n"
     ]
    }
   ],
   "source": [
    "from typing import Any\n",
    "\n",
    "\n",
    "class charactor:\n",
    "\n",
    "    def __init__(self, hp, attack, defence): #생성자\n",
    "        self.hp = hp \n",
    "        self.attack = attack\n",
    "        self.defence = defence \n",
    "        print('player가 생성되었습니다')\n",
    "\n",
    "    def __call__(self):  #메소드\n",
    "        print(\"hp: %d, attack: %d, defence: %d\" %(self.hp, self.attack, self.defence))\n",
    "\n",
    "    def __getitem__(self, name):   #속성 익히기\n",
    "        if name == 'hp':\n",
    "            return self.hp\n",
    "        elif name == 'attack':\n",
    "            return self.attack  #딕셔너리에서 데이터를 사용하는 것처럼 []로 키 값에 따라 맞는 속성 리턴\n",
    "        elif name == 'defence':\n",
    "            return self.defence\n",
    "        else:\n",
    "            return \"존재하지 않는 값입니다.\"  #속성은 존재하지 않는 키가 존재하지 않음을 보여줄 수 있음\n",
    "        \n",
    "player_a = charactor(10, 20, 30)\n",
    "\n",
    "print(player_a['hp'])\n",
    "print(player_a['attack'])\n",
    "print(player_a['defence'])\n",
    "print(player_a['dead'])"
   ]
  },
  {
   "cell_type": "code",
   "execution_count": 13,
   "metadata": {},
   "outputs": [
    {
     "name": "stdout",
     "output_type": "stream",
     "text": [
      "player가 생성되었습니다.\n",
      "10\n",
      "20\n",
      "30\n"
     ]
    }
   ],
   "source": [
    "from typing import Any\n",
    "\n",
    "\n",
    "class charactor:\n",
    "    \n",
    "    def __init__(self, hp, attack, defence):\n",
    "        self.info = {\n",
    "            'hp' : hp,\n",
    "            'attack' : attack,\n",
    "            'defence' : defence\n",
    "        }\n",
    "        print('player가 생성되었습니다.')\n",
    "\n",
    "    def __call__(self):\n",
    "        print(\"hp : %d, attack = %d, defence = %d\" % (self.info['hp'], self.info['attack'], self.info['defence']))\n",
    "\n",
    "    def __getitem__(self, name):\n",
    "        if name in self.info.keys():\n",
    "            return self.info[name]\n",
    "        else:\n",
    "            return \"알 수 없습니다.\"\n",
    "    \n",
    "player_a = charactor(10, 20, 30)\n",
    "\n",
    "print(player_a['hp'])\n",
    "print(player_a['attack'])\n",
    "print(player_a['defence'])"
   ]
  },
  {
   "cell_type": "markdown",
   "metadata": {},
   "source": [
    "스태틱 메소드\n",
    "함수에 공간부여\n",
    "함수명이 겹치는 일 방지\n",
    "self 인자를 받지 않음 - 네임스페이스 역할이라서 / 그냥 함수처럼 불러와 쓸 수 있음 -특징: 클래스.메소드() 형태로 와야한다."
   ]
  },
  {
   "cell_type": "code",
   "execution_count": 19,
   "metadata": {},
   "outputs": [
    {
     "name": "stdout",
     "output_type": "stream",
     "text": [
      "namemethod1 s2 static method\n",
      "namemethod2 s1 static method\n",
      "namemethod1 s1 static method\n",
      "namemethod2 s2 static method\n"
     ]
    }
   ],
   "source": [
    "class namemethod:\n",
    "    @staticmethod  \n",
    "    def s1():\n",
    "        print('namemethod1 s1 static method')\n",
    "\n",
    "    @staticmethod\n",
    "    def s2():\n",
    "        print('namemethod1 s2 static method')\n",
    "\n",
    "class namemethod2:\n",
    "    @staticmethod\n",
    "    def s1():\n",
    "        print('namemethod2 s1 static method')\n",
    "    @staticmethod\n",
    "    def s2():\n",
    "        print('namemethod2 s2 static method')\n",
    "\n",
    "namemethod.s2()\n",
    "namemethod2.s1()\n",
    "namemethod.s1()\n",
    "namemethod2.s2()"
   ]
  },
  {
   "cell_type": "code",
   "execution_count": 2,
   "metadata": {},
   "outputs": [
    {
     "name": "stdout",
     "output_type": "stream",
     "text": [
      "player 생성 완료. 생성된 유닛 수: 1\n",
      "player 생성 완료. 생성된 유닛 수: 2\n",
      "player 생성 완료. 생성된 유닛 수: 3\n",
      "player 생성 완료. 생성된 유닛 수: 4\n",
      "player가 제거되었습니다. 생성된 유닛 수: 3\n",
      "program end\n"
     ]
    }
   ],
   "source": [
    "from typing import Any\n",
    "\n",
    "\n",
    "class charactor:\n",
    "    char_cnt = 0\n",
    "\n",
    "    def __init__(self, hp, attack, defence):\n",
    "        self.info = {\n",
    "            'hp' : hp,\n",
    "            'attack' : attack,\n",
    "            'defence' : defence\n",
    "        }\n",
    "\n",
    "        charactor.char_cnt += 1\n",
    "\n",
    "        print('player 생성 완료. 생성된 유닛 수: %d' % (charactor.char_cnt))\n",
    "\n",
    "    def __call__(self):\n",
    "        print(\"hp: %d, attack: %d, defence: %d\" % (self.info['hp'], self.info['attack'], self.info['defence']))\n",
    "\n",
    "    def __del__(self):\n",
    "        charactor.char_cnt -= 1\n",
    "        print('player가 제거되었습니다. 생성된 유닛 수: %d' % (charactor.char_cnt))\n",
    "\n",
    "player_a = charactor(100, 50, 25)\n",
    "player_b = charactor(200, 10, 50)\n",
    "player_c = charactor(100, 100, 70)\n",
    "player_d = charactor(250, 100, 100)\n",
    "\n",
    "del player_c\n",
    "\n",
    "print(\"program end\")"
   ]
  },
  {
   "cell_type": "code",
   "execution_count": null,
   "metadata": {},
   "outputs": [],
   "source": []
  }
 ],
 "metadata": {
  "kernelspec": {
   "display_name": "Python 3 (ipykernel)",
   "language": "python",
   "name": "python3"
  },
  "language_info": {
   "codemirror_mode": {
    "name": "ipython",
    "version": 3
   },
   "file_extension": ".py",
   "mimetype": "text/x-python",
   "name": "python",
   "nbconvert_exporter": "python",
   "pygments_lexer": "ipython3",
   "version": "3.8.19"
  }
 },
 "nbformat": 4,
 "nbformat_minor": 2
}
